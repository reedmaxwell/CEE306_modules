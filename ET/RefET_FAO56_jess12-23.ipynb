{
 "cells": [
  {
   "cell_type": "raw",
   "metadata": {},
   "source": [
    "#Draft for CEE 306 module\n",
    "#Reference ET calculation for FAO-56\n",
    "#Editing and expanding on ref_et_calc.py from 12/22/2021\n",
    "\n",
    "#Still need to incorporate crop functions. Ended at ET0 today (12/23)"
   ]
  },
  {
   "cell_type": "code",
   "execution_count": 1,
   "metadata": {},
   "outputs": [],
   "source": [
    "import math"
   ]
  },
  {
   "cell_type": "raw",
   "metadata": {},
   "source": [
    "# This notebook follows the [FAO-56] (http://www.fao.org/3/X0490E/X0490E00.htm) methodology which implements the Penman\n",
    "# approach to ET, to get a reference ET0 (often called potential ET) value\n",
    "# it then uses crop coefficients to scale ET0 to some actual ET"
   ]
  },
  {
   "cell_type": "markdown",
   "metadata": {},
   "source": [
    "Overall Game Plan"
   ]
  },
  {
   "cell_type": "raw",
   "metadata": {},
   "source": [
    "# This document outlines the FAO-56 approach which is useful when there are limited observations.\n",
    "# We will calculate a theoretical solar radation budget, we will calculate a vapor pressure based \n",
    "# only on temperature (minimum and maximum), then we will calculate the slope of the vapor pressure curve ($\\delta$)\n",
    "# and psychrometric constant ($\\gamma$) which are foundational components to the Penman equation.\n",
    "# Each of the supporting calculations are arranged in sections.  If you have observations for (e.g.)\n",
    "# long and shortwave net radiation, you would generally use those in place of the theoretical \n",
    "# calculations I show here."
   ]
  },
  {
   "cell_type": "markdown",
   "metadata": {},
   "source": [
    "Calculate dew-point temperature, $T_{dew}$"
   ]
  },
  {
   "cell_type": "raw",
   "metadata": {},
   "source": [
    "# Dew-point temperature is the temperature at which a parcel of air is fully saturated \n",
    "# with water so that droplets (dew) start to form.\n",
    "# $T_{dew}$ can be derived from the relative humidity using FAO-56 Eq(10). \n",
    "# When there are no observations of relative humidity, we can use an estimate based on the \n",
    "# minimum daily temperature, $T_min$ (this is one reason is why many products, e.g. DayMET, report \n",
    "# min/max temps).  $T_{dew} = T_{min} + K_0$ \n",
    "# where the empirical dewpoint offset, $K_0 = 2$ \\[deg C]."
   ]
  },
  {
   "cell_type": "code",
   "execution_count": 24,
   "metadata": {},
   "outputs": [],
   "source": [
    "Tmin = 15  #deg C\n",
    "K0=2 #dewpoint offset, empirical"
   ]
  },
  {
   "cell_type": "code",
   "execution_count": 25,
   "metadata": {},
   "outputs": [
    {
     "name": "stdout",
     "output_type": "stream",
     "text": [
      "Tdew= 17  deg C\n"
     ]
    }
   ],
   "source": [
    "Tdew=Tmin+K0\n",
    "print('Tdew=',Tdew,' deg C')"
   ]
  },
  {
   "cell_type": "markdown",
   "metadata": {},
   "source": [
    "Calculate actual vapor pressure, $e_a$"
   ]
  },
  {
   "cell_type": "raw",
   "metadata": {},
   "source": [
    "# Vapor pressure is the partial pressure of water vapor within air. Saturation vapor pressure\n",
    "# is the vapor pressure of an air parcel at some temperature when it has plenty of water. As seen\n",
    "# in FAO-56 Eq(10), actual vapor pressure is the saturation vapor pressure times relative humidity.\n",
    "# Since dew-point temperature is the temp at which air is saturated, then the actual vapor pressure\n",
    "# at the dew-point temperature is equal to the saturation vapor pressure at that temperature.\n",
    "# We use FAO-56 Eq(14) to calculate this as\n",
    "# $e_a=e_0(T_{dew})$ \\[kPa] or $e_a=0.6108*e^{(17.27*T_{dew})/(T_{dew}+237.3)}$"
   ]
  },
  {
   "cell_type": "code",
   "execution_count": 26,
   "metadata": {},
   "outputs": [
    {
     "name": "stdout",
     "output_type": "stream",
     "text": [
      "ea= 1.9377293518704448  kPa\n"
     ]
    }
   ],
   "source": [
    "ea=0.6108*math.exp((17.27*Tdew)/(Tdew+237.3))  #[kPa]\n",
    "print('ea=',ea,' kPa')"
   ]
  },
  {
   "cell_type": "markdown",
   "metadata": {},
   "source": [
    "Calculate the saturation vapor pressure, $e_{s}$, and then the vapor pressure deficit, $e_{s}-e_{a}$"
   ]
  },
  {
   "cell_type": "raw",
   "metadata": {},
   "source": [
    "# Because the saturation vapor pressure equation is non-linear, the average should first calculate\n",
    "# the saturation vapor pressure at the minimum and maximum temperature, and then average the results.\n",
    "# $e_s=(e_0(T_{max})+e_0(T_{min}))/2$ \\[kPa]\n",
    "# Vapor pressure deficit is then the difference between the saturated and actual vapor pressures."
   ]
  },
  {
   "cell_type": "code",
   "execution_count": 27,
   "metadata": {},
   "outputs": [
    {
     "name": "stdout",
     "output_type": "stream",
     "text": [
      "es= 2.4365619748113096  kPa\n",
      "VPD= 0.49883262294086483  kPa\n"
     ]
    }
   ],
   "source": [
    "Tmax = 25 #[C] maximum temperature\n",
    "e0_Tmax=0.6108*math.exp((17.27*Tmax)/(Tmax+237.3))  #[kPa]\n",
    "e0_Tmin=0.6108*math.exp((17.27*Tmin)/(Tmin+237.3))  #[kPa]\n",
    "es=(e0_Tmax+e0_Tmin)/2 #[kPa]\n",
    "print('es=',es,' kPa')\n",
    "print('VPD=',es-ea,' kPa')"
   ]
  },
  {
   "cell_type": "markdown",
   "metadata": {},
   "source": [
    "Calculate the slope of the vapor pressure curve, $\\Delta$"
   ]
  },
  {
   "cell_type": "raw",
   "metadata": {},
   "source": [
    "# The slope of the vapor pressure curve, $\\Delta$, or D, is quite simply the derivative\n",
    "# or rise/run of the FAO-56 Eq(11) for saturation vapor pressure as a function of temperature.\n",
    "# D in units of kPa per degree C is listed in FAO-56 Eq(13) as\n",
    "# $D=4096*(0.6108*math.exp(17.27*T/(T+237.3)))/(T+237.3)**2$\n",
    "# We can take the slope at a mean temperature."
   ]
  },
  {
   "cell_type": "code",
   "execution_count": 28,
   "metadata": {},
   "outputs": [
    {
     "name": "stdout",
     "output_type": "stream",
     "text": [
      "$\\Delta$= 0.14466954868434512  kPa/C\n"
     ]
    }
   ],
   "source": [
    "Tmean = (Tmax+Tmin)/2 #[C]\n",
    "D=4096*(0.6108*math.exp(17.27*Tmean/(Tmean+237.3)))/(Tmean+237.3)**2\n",
    "print('$\\Delta$=',D,' kPa/C')"
   ]
  },
  {
   "cell_type": "markdown",
   "metadata": {},
   "source": [
    "Calculate the net solar radiation"
   ]
  },
  {
   "cell_type": "raw",
   "metadata": {},
   "source": [
    "# A majority of the calculations in FAO-56 and in codes like PRMS are to estimate the net solar\n",
    "# radiation.  This uses the equations we developed earlier in the class for theoretical net solar short \n",
    "# and long wave radiation (e.g. 2.6.1 in Brutsaert).ß   \n",
    "# For daily periods, extraterrestrial radiation can be calculated using the solar constant, the \n",
    "# relative Earth-Sun distance, the sunset hour angle, the latitude, and the solar declination angle\n",
    "# FAO-56 Eq(21)"
   ]
  },
  {
   "cell_type": "code",
   "execution_count": 29,
   "metadata": {},
   "outputs": [
    {
     "name": "stdout",
     "output_type": "stream",
     "text": [
      "Ra= 40.153202833867354  MJ/(m^2*day)\n"
     ]
    }
   ],
   "source": [
    "#Extraterrestrial radiation = Ra\n",
    "Gsc = 0.0820 #[MJ/(m^2 min)], Solar Constant\n",
    "J = 200 #day of year after Jan 1 (less than 366)\n",
    "dr = 1+0.033*math.cos(2*math.pi*J/365) #relative Earth-Sun distance\n",
    "sd = 0.409*math.sin(2*math.pi*J/365 - 1.39) #[rad], solar declination angle\n",
    "j = math.pi/4 #[rad], latitude\n",
    "ws = math.acos(-math.tan(j)*math.tan(sd)) #[rad], sunset hour angle\n",
    "Ra = (24*60/math.pi)*Gsc*dr*(ws*math.sin(j)*math.sin(sd)+math.cos(j)*math.cos(sd)*math.sin(ws))\n",
    "print('Ra=',Ra,' MJ/(m^2*day)')"
   ]
  },
  {
   "cell_type": "raw",
   "metadata": {},
   "source": [
    "# So that is how much solar radiation is reaching the top of atmosphere, but what is actually\n",
    "# touching the ground? We need to estimate how much is lost in the atmosphere.\n",
    "#FAO-56 Eq(35)"
   ]
  },
  {
   "cell_type": "code",
   "execution_count": 37,
   "metadata": {},
   "outputs": [
    {
     "name": "stdout",
     "output_type": "stream",
     "text": [
      "N =  14.970710082079407  hours\n"
     ]
    }
   ],
   "source": [
    "N = 24*ws/math.pi #maximum daylight hours given sunshine hour angle\n",
    "print('N = ',N,' hours') #check N before deciding n"
   ]
  },
  {
   "cell_type": "code",
   "execution_count": 38,
   "metadata": {},
   "outputs": [
    {
     "name": "stdout",
     "output_type": "stream",
     "text": [
      "Rs= 27.740275915424757  [MJ/(m^2*day)]\n"
     ]
    }
   ],
   "source": [
    "n = 12 #actual sunshine hours (must be less than N)\n",
    "a_s = 0.25 #recommended Angstrom constant\n",
    "b_s = 0.55 #recommended Angstrom constant\n",
    "Rs = (a_s+b_s*(n/N))*Ra #Solar Radiaton at ground\n",
    "print('Rs=',Rs,' [MJ/(m^2*day)]')"
   ]
  },
  {
   "cell_type": "raw",
   "metadata": {},
   "source": [
    "# if n=N (and it is clear sky all day) then\n",
    "# Rso = (a_s + b_s)*Ra"
   ]
  },
  {
   "cell_type": "code",
   "execution_count": 31,
   "metadata": {},
   "outputs": [
    {
     "name": "stdout",
     "output_type": "stream",
     "text": [
      "Rso= 32.12256226709388  [MJ/(m^2*day)]\n"
     ]
    }
   ],
   "source": [
    "#Clear sky solar radiation\n",
    "Rso = (a_s+b_s)*Ra\n",
    "print('Rso=',Rso,' [MJ/(m^2*day)]')"
   ]
  },
  {
   "cell_type": "raw",
   "metadata": {},
   "source": [
    "# Finally, net solar radiation is what comes to the ground minus what gets reflected.\n",
    "# Albedo tells us what fraction gets reflected, so net short waave radiation is \n",
    "# $R_{ns} = Rs*(1-albedo)$"
   ]
  },
  {
   "cell_type": "code",
   "execution_count": 32,
   "metadata": {},
   "outputs": [
    {
     "name": "stdout",
     "output_type": "stream",
     "text": [
      "Rns= 19.418193140797328  [MJ/(m^2*day)]\n"
     ]
    }
   ],
   "source": [
    "albedo = 0.3\n",
    "Rns = Rs*(1-albedo)\n",
    "print('Rns=',Rns,' [MJ/(m^2*day)]')"
   ]
  },
  {
   "cell_type": "markdown",
   "metadata": {},
   "source": [
    "Calculate the net longwave radiation"
   ]
  },
  {
   "cell_type": "raw",
   "metadata": {},
   "source": [
    "# FAO-56 Eq(39) details an approach to estimating net long-wave radiation out. Long-wave radiation is\n",
    "# energy emitted at Earth temperatures (much cooler than the Sun). Net long-wave is \n",
    "# radiation emitted up by the surface minus radiation emitted down by the atmosphere. The atmospheric\n",
    "# emission depends strongly on water content, so the equation uses $e_a$."
   ]
  },
  {
   "cell_type": "code",
   "execution_count": 33,
   "metadata": {},
   "outputs": [
    {
     "name": "stdout",
     "output_type": "stream",
     "text": [
      "Rnl= 4.287425832632608  [MJ/(m^2*day)]\n"
     ]
    }
   ],
   "source": [
    "s = 4.903E-9 #MJ/(K^4*m^2) Stefan Boltzmann Constant\n",
    "Rnl = s*((Tmean+273.16)**4)*(0.34-0.14*math.sqrt(ea))*(1.35*Rs/Rso-0.35)\n",
    "print('Rnl=',Rnl,' [MJ/(m^2*day)]')"
   ]
  },
  {
   "cell_type": "markdown",
   "metadata": {},
   "source": [
    "Calculate net radiation"
   ]
  },
  {
   "cell_type": "raw",
   "metadata": {},
   "source": [
    "# Net radiation is simply the balance of short and long-wave radiation. Since our short-wave was\n",
    "# positive into the ground and our long-wave was positive out of the ground, \n",
    "# FAO-56 Eq(40) writes Rn = Rns - Rnl"
   ]
  },
  {
   "cell_type": "code",
   "execution_count": 34,
   "metadata": {},
   "outputs": [
    {
     "name": "stdout",
     "output_type": "stream",
     "text": [
      "Rn= 15.130767308164721 [MJ/(m^2*day)]\n"
     ]
    }
   ],
   "source": [
    "Rn = Rns - Rnl\n",
    "print('Rn=',Rn,'[MJ/(m^2*day)]')"
   ]
  },
  {
   "cell_type": "raw",
   "metadata": {},
   "source": [
    "# G is soil heat flux. For this exercise, we will take it to be zero. "
   ]
  },
  {
   "cell_type": "markdown",
   "metadata": {},
   "source": [
    "Calculate the wind speed 2 meters above the ground, $u_2$"
   ]
  },
  {
   "cell_type": "raw",
   "metadata": {},
   "source": [
    "# Wind tends to have a logarithmic profile with zero wind exactly at the ground, and faster\n",
    "# winds higher up. Our equation requires us to have the wind 2 meters above the ground.\n",
    "#FAO-56 Eq(47) gives the wind at 2 meters given u_z and z"
   ]
  },
  {
   "cell_type": "code",
   "execution_count": 35,
   "metadata": {},
   "outputs": [
    {
     "name": "stdout",
     "output_type": "stream",
     "text": [
      "u2= 2.9918043006717765  m/s\n"
     ]
    }
   ],
   "source": [
    "uz = 4 #[m/s], wind at not 2 m\n",
    "z = 10 #[m], height at which uz was measured\n",
    "u2 = uz*4.87/math.log(67.8*z-5.42)\n",
    "print('u2=',u2,' m/s')"
   ]
  },
  {
   "cell_type": "markdown",
   "metadata": {},
   "source": [
    "Calculate reference evapotranspiration, $ET_0$"
   ]
  },
  {
   "cell_type": "raw",
   "metadata": {},
   "source": [
    "# FAO-56 Eq(6) uses the same units for the above terms as given here to get a reference ET in mm/day.\n",
    "# The last piece needed is the psychrometric constant (which varies a little with temperature).\n",
    "# Dingman 3rd Edition Eq(6.21) describes this, and lists a common value as 0.066 kPa/K"
   ]
  },
  {
   "cell_type": "code",
   "execution_count": 36,
   "metadata": {},
   "outputs": [
    {
     "name": "stdout",
     "output_type": "stream",
     "text": [
      "ET_0= 4.303918988777319  mm/day\n"
     ]
    }
   ],
   "source": [
    "gamma = 0.066 #[kPa/C] = [kPa/K]\n",
    "ET0 = (0.408*D*Rn+gamma*(900/(Tmean+273))*u2*(es-ea))/(D+gamma*(1+0.34*u2))\n",
    "print('ET_0=',ET0,' mm/day')"
   ]
  },
  {
   "cell_type": "raw",
   "metadata": {},
   "source": [
    "# By this final potential ET equation, we see that increased radiation, wind speed, and \n",
    "# vapor pressure deficit all increase the potential for the atmosphere to evaporate moisture from\n",
    "# the ground surface or from plants."
   ]
  }
 ],
 "metadata": {
  "kernelspec": {
   "display_name": "Python 3",
   "language": "python",
   "name": "python3"
  },
  "language_info": {
   "codemirror_mode": {
    "name": "ipython",
    "version": 3
   },
   "file_extension": ".py",
   "mimetype": "text/x-python",
   "name": "python",
   "nbconvert_exporter": "python",
   "pygments_lexer": "ipython3",
   "version": "3.6.6+"
  }
 },
 "nbformat": 4,
 "nbformat_minor": 2
}
